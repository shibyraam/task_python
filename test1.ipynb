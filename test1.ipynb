{
 "cells": [
  {
   "cell_type": "markdown",
   "id": "822bd49c",
   "metadata": {},
   "source": [
    "## Task 1"
   ]
  },
  {
   "cell_type": "code",
   "execution_count": 1,
   "id": "4f25abd5",
   "metadata": {},
   "outputs": [],
   "source": [
    "a=[2,3,4,2,3,4,8,9,12,\"apple\",'Apple']"
   ]
  },
  {
   "cell_type": "code",
   "execution_count": 2,
   "id": "c81456a6",
   "metadata": {},
   "outputs": [
    {
     "data": {
      "text/plain": [
       "[2, 3, 4, 2, 3, 4, 8, 9, 12, 'apple', 'Apple']"
      ]
     },
     "execution_count": 2,
     "metadata": {},
     "output_type": "execute_result"
    }
   ],
   "source": [
    "a"
   ]
  },
  {
   "cell_type": "code",
   "execution_count": 5,
   "id": "77b2850a",
   "metadata": {},
   "outputs": [],
   "source": [
    "x=a.copy()"
   ]
  },
  {
   "cell_type": "code",
   "execution_count": 6,
   "id": "3959ea55",
   "metadata": {},
   "outputs": [
    {
     "data": {
      "text/plain": [
       "[2, 3, 4, 2, 3, 4, 8, 9, 12, 'apple', 'Apple']"
      ]
     },
     "execution_count": 6,
     "metadata": {},
     "output_type": "execute_result"
    }
   ],
   "source": [
    "x"
   ]
  },
  {
   "cell_type": "code",
   "execution_count": 15,
   "id": "ce67f2ff",
   "metadata": {},
   "outputs": [],
   "source": [
    "y=set(x)"
   ]
  },
  {
   "cell_type": "code",
   "execution_count": 16,
   "id": "ebd2dded",
   "metadata": {},
   "outputs": [
    {
     "data": {
      "text/plain": [
       "{12, 2, 3, 4, 8, 9, 'Apple', 'apple'}"
      ]
     },
     "execution_count": 16,
     "metadata": {},
     "output_type": "execute_result"
    }
   ],
   "source": [
    "y"
   ]
  },
  {
   "cell_type": "code",
   "execution_count": 17,
   "id": "2aa06acd",
   "metadata": {},
   "outputs": [
    {
     "data": {
      "text/plain": [
       "set"
      ]
     },
     "execution_count": 17,
     "metadata": {},
     "output_type": "execute_result"
    }
   ],
   "source": [
    "type(y)"
   ]
  },
  {
   "cell_type": "code",
   "execution_count": 18,
   "id": "370c8126",
   "metadata": {},
   "outputs": [],
   "source": [
    "x=list(y)"
   ]
  },
  {
   "cell_type": "code",
   "execution_count": 19,
   "id": "62112e80",
   "metadata": {},
   "outputs": [
    {
     "name": "stdout",
     "output_type": "stream",
     "text": [
      "[2, 3, 4, 8, 9, 12, 'Apple', 'apple']\n"
     ]
    }
   ],
   "source": [
    "print(x)"
   ]
  },
  {
   "cell_type": "markdown",
   "id": "125343d4",
   "metadata": {},
   "source": [
    "## Task 2"
   ]
  },
  {
   "cell_type": "code",
   "execution_count": 45,
   "id": "4511f0f8",
   "metadata": {},
   "outputs": [],
   "source": [
    "B='i need an apple'"
   ]
  },
  {
   "cell_type": "code",
   "execution_count": 56,
   "id": "cad7e1c7",
   "metadata": {},
   "outputs": [
    {
     "data": {
      "text/plain": [
       "'apple'"
      ]
     },
     "execution_count": 56,
     "metadata": {},
     "output_type": "execute_result"
    }
   ],
   "source": [
    "B[10:15]"
   ]
  },
  {
   "cell_type": "code",
   "execution_count": 57,
   "id": "fcff67ef",
   "metadata": {},
   "outputs": [],
   "source": [
    "B=B[10:15]"
   ]
  },
  {
   "cell_type": "code",
   "execution_count": 63,
   "id": "99064c79",
   "metadata": {},
   "outputs": [
    {
     "data": {
      "text/plain": [
       "'apple'"
      ]
     },
     "execution_count": 63,
     "metadata": {},
     "output_type": "execute_result"
    }
   ],
   "source": [
    "B"
   ]
  },
  {
   "cell_type": "markdown",
   "id": "2183a2e1",
   "metadata": {},
   "source": [
    "## Task 3"
   ]
  },
  {
   "cell_type": "code",
   "execution_count": 9,
   "id": "5b9c8b32",
   "metadata": {},
   "outputs": [
    {
     "name": "stdout",
     "output_type": "stream",
     "text": [
      "Enter a Number: 2\n",
      "Enter a Number: 6\n",
      "both number even\n",
      "addition  8\n"
     ]
    }
   ],
   "source": [
    "d=int(input(\"Enter a Number: \"))\n",
    "e=int(input(\"Enter a Number: \"))\n",
    "if (d%2) == (e%2) == 0:\n",
    "    print(\"both number even\")\n",
    "    add=d+e\n",
    "    print(\"addition \",add)\n",
    "else:\n",
    "    print(\"both number is not even\")\n",
    "    multiple=d*e\n",
    "    print(\"Multiple\",multiple)"
   ]
  },
  {
   "cell_type": "code",
   "execution_count": 10,
   "id": "51162c5b",
   "metadata": {},
   "outputs": [
    {
     "name": "stdout",
     "output_type": "stream",
     "text": [
      "Enter a Number: 3\n",
      "Enter a Number: 6\n",
      "both number is not even\n",
      "Multiple 18\n"
     ]
    }
   ],
   "source": [
    "d=int(input(\"Enter a Number: \"))\n",
    "e=int(input(\"Enter a Number: \"))\n",
    "if (d%2) == (e%2) == 0:\n",
    "    print(\"both number even\")\n",
    "    add=d+e\n",
    "    print(\"addition \",add)\n",
    "else:\n",
    "    print(\"both number is not even\")\n",
    "    multiple=d*e\n",
    "    print(\"Multiple\",multiple)"
   ]
  },
  {
   "cell_type": "markdown",
   "id": "2d0b8d97",
   "metadata": {},
   "source": [
    "## Task 4"
   ]
  },
  {
   "cell_type": "code",
   "execution_count": 4,
   "id": "06f6839f",
   "metadata": {},
   "outputs": [],
   "source": [
    "def calc(d,e):\n",
    "    if (d%2) == (e%2) == 0:\n",
    "        add=d+e\n",
    "        return(\"both number is even \",add)\n",
    "    else:\n",
    "        multiple=d*e\n",
    "        return(\"both number is not even \",multiple)"
   ]
  },
  {
   "cell_type": "code",
   "execution_count": 5,
   "id": "7da24367",
   "metadata": {},
   "outputs": [
    {
     "data": {
      "text/plain": [
       "('both number is not even ', 6)"
      ]
     },
     "execution_count": 5,
     "metadata": {},
     "output_type": "execute_result"
    }
   ],
   "source": [
    "calc(2,3)"
   ]
  },
  {
   "cell_type": "code",
   "execution_count": 6,
   "id": "d687e201",
   "metadata": {},
   "outputs": [
    {
     "data": {
      "text/plain": [
       "('both number is even ', 10)"
      ]
     },
     "execution_count": 6,
     "metadata": {},
     "output_type": "execute_result"
    }
   ],
   "source": [
    "calc(2,8)"
   ]
  },
  {
   "cell_type": "markdown",
   "id": "ee608e3a",
   "metadata": {},
   "source": [
    "##  Task 5"
   ]
  },
  {
   "cell_type": "code",
   "execution_count": 7,
   "id": "09b01509",
   "metadata": {},
   "outputs": [
    {
     "name": "stdout",
     "output_type": "stream",
     "text": [
      " display a multiplication table of? : 8\n",
      "1 x 8 = 8\n",
      "2 x 8 = 16\n",
      "3 x 8 = 24\n",
      "4 x 8 = 32\n",
      "5 x 8 = 40\n",
      "6 x 8 = 48\n",
      "7 x 8 = 56\n",
      "8 x 8 = 64\n",
      "9 x 8 = 72\n",
      "10 x 8 = 80\n",
      "11 x 8 = 88\n",
      "12 x 8 = 96\n",
      "13 x 8 = 104\n",
      "14 x 8 = 112\n",
      "15 x 8 = 120\n",
      "16 x 8 = 128\n",
      "17 x 8 = 136\n",
      "18 x 8 = 144\n",
      "19 x 8 = 152\n",
      "20 x 8 = 160\n"
     ]
    }
   ],
   "source": [
    "num = int(input(\" display a multiplication table of? : \"))\n",
    "for i in range(1,21):\n",
    "    print(i,'x',num,'=',i*num)\n"
   ]
  },
  {
   "cell_type": "markdown",
   "id": "178f8509",
   "metadata": {},
   "source": [
    "## Task 4"
   ]
  },
  {
   "cell_type": "markdown",
   "id": "0af4473c",
   "metadata": {},
   "source": [
    "#### def calc(d,e):\n",
    "####    if (d%2) == (e%2) == 0:\n",
    "####        add=d+e\n",
    "####        return(\"both number is even \",add)\n",
    "####    else:\n",
    "####        multiple=d*e\n",
    "####        return(\"both number is not even \",multiple)\n",
    "\n",
    "### Save as to task4.py"
   ]
  },
  {
   "cell_type": "code",
   "execution_count": 17,
   "id": "10a77eaf",
   "metadata": {},
   "outputs": [],
   "source": [
    "import task4"
   ]
  },
  {
   "cell_type": "code",
   "execution_count": 18,
   "id": "57cc4ba9",
   "metadata": {},
   "outputs": [
    {
     "data": {
      "text/plain": [
       "('both number is even ', 8)"
      ]
     },
     "execution_count": 18,
     "metadata": {},
     "output_type": "execute_result"
    }
   ],
   "source": [
    "task4.calc(2,6)"
   ]
  },
  {
   "cell_type": "code",
   "execution_count": 19,
   "id": "f51c53a9",
   "metadata": {},
   "outputs": [
    {
     "data": {
      "text/plain": [
       "('both number is not even ', 21)"
      ]
     },
     "execution_count": 19,
     "metadata": {},
     "output_type": "execute_result"
    }
   ],
   "source": [
    "task4.calc(3,7)"
   ]
  },
  {
   "cell_type": "code",
   "execution_count": null,
   "id": "17557d87",
   "metadata": {},
   "outputs": [],
   "source": []
  }
 ],
 "metadata": {
  "kernelspec": {
   "display_name": "Python 3 (ipykernel)",
   "language": "python",
   "name": "python3"
  },
  "language_info": {
   "codemirror_mode": {
    "name": "ipython",
    "version": 3
   },
   "file_extension": ".py",
   "mimetype": "text/x-python",
   "name": "python",
   "nbconvert_exporter": "python",
   "pygments_lexer": "ipython3",
   "version": "3.10.8"
  }
 },
 "nbformat": 4,
 "nbformat_minor": 5
}
